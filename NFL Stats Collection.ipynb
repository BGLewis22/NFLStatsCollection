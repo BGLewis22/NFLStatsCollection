{
 "cells": [
  {
   "cell_type": "code",
   "execution_count": null,
   "metadata": {},
   "outputs": [],
   "source": [
    "import pandas as pd\n",
    "import seaborn as sns\n",
    "from matplotlib import pyplot as plt\n",
    "import numpy as np\n",
    "import os,errno\n",
    "import glob\n",
    "import datetime"
   ]
  },
  {
   "cell_type": "code",
   "execution_count": null,
   "metadata": {},
   "outputs": [],
   "source": [
    "#Passing stats\n",
    "#Open URL. Start Data set.\n",
    "URL=\"https://www.pro-football-reference.com/play-index/pgl_finder.cgi?request=1&match=game&year_min=1970&year_max=2020&season_start=1&season_end=-1&age_min=0&age_max=99&game_type=A&league_id=&team_id=&opp_id=&game_num_min=0&game_num_max=99&week_num_min=1&week_num_max=17&game_day_of_week=&game_location=&game_result=&handedness=&is_active=&is_hof=&c1stat=pass_att&c1comp=gt&c1val=1&c2stat=&c2comp=gt&c2val=&c3stat=&c3comp=gt&c3val=&c4stat=&c4comp=gt&c4val=&order_by=pass_rating&from_link=1&order_by_asc=1&offset=0\"\n",
    "dfs=pd.read_html(URL,header=1)\n",
    "df=dfs[0]\n",
    "df\n",
    "\n",
    "#current=pd.read_csv(r'C:\\Users\\bglew\\OneDrive\\Documents\\NFL\\Passing.csv')\n",
    "#count_row = current.shape[0]\n",
    "#c=count_row/20\n",
    "#print(c)\n",
    "\n",
    "for x in range(0,100000000):\n",
    "    URL=\"https://www.pro-football-reference.com/play-index/pgl_finder.cgi?request=1&match=game&year_min=1970&year_max=2020&season_start=1&season_end=-1&age_min=0&age_max=99&game_type=A&league_id=&team_id=&opp_id=&game_num_min=0&game_num_max=99&week_num_min=1&week_num_max=17&game_day_of_week=&game_location=&game_result=&handedness=&is_active=&is_hof=&c1stat=pass_att&c1comp=gt&c1val=1&c2stat=&c2comp=gt&c2val=&c3stat=&c3comp=gt&c3val=&c4stat=&c4comp=gt&c4val=&order_by=pass_rating&from_link=1&order_by_asc=1&offset=\"+str((x+1)*20)\n",
    "    dfnews=pd.read_html(URL,header=1)\n",
    "    dfnew=dfnews[0]\n",
    "    df = pd.concat([df, dfnew])\n",
    "    count_row = df.shape[0]\n",
    "    dateTimeObj = datetime.datetime.now()\n",
    "    print(count_row, dateTimeObj)\n",
    "    df.to_csv(r\"C:\\Users\\bglew\\OneDrive\\Documents\\NFL\\Passing.csv\", index = False)\n"
   ]
  },
  {
   "cell_type": "code",
   "execution_count": null,
   "metadata": {},
   "outputs": [],
   "source": [
    "#Receiving stats\n",
    "URL=\"https://www.pro-football-reference.com/play-index/pgl_finder.cgi?request=1&match=game&year_min=1970&year_max=2020&season_start=1&season_end=-1&pos=0&game_type=R&career_game_num_min=1&career_game_num_max=400&game_num_min=0&game_num_max=99&week_num_min=0&week_num_max=99&c1stat=rec&c1comp=gt&c1val=1&c5val=1.0&order_by=rec&order_by_asc=1&offset=0\"\n",
    "dfs=pd.read_html(URL,header=1)\n",
    "df=dfs[0]\n",
    "df\n",
    "\n",
    "for x in range(0,100000000):\n",
    "    URL=\"https://www.pro-football-reference.com/play-index/pgl_finder.cgi?request=1&match=game&year_min=1970&year_max=2020&season_start=1&season_end=-1&pos=0&game_type=R&career_game_num_min=1&career_game_num_max=400&game_num_min=0&game_num_max=99&week_num_min=0&week_num_max=99&c1stat=rec&c1comp=gt&c1val=1&c5val=1.0&order_by=rec&order_by_asc=1&offset=\"+str((x+1)*20)\n",
    "    dfnews=pd.read_html(URL,header=1)\n",
    "    dfnew=dfnews[0]\n",
    "    df = pd.concat([df, dfnew])\n",
    "    count_row = df.shape[0]\n",
    "    dateTimeObj = datetime.datetime.now()\n",
    "    print(count_row, dateTimeObj)\n",
    "    df.to_csv(r\"C:\\Users\\bglew\\OneDrive\\Documents\\NFL\\Receiving.csv\", index = False)"
   ]
  },
  {
   "cell_type": "code",
   "execution_count": null,
   "metadata": {},
   "outputs": [],
   "source": [
    "#Rushing stats\n",
    "URL=\"https://www.pro-football-reference.com/play-index/pgl_finder.cgi?request=1&match=game&year_min=1970&year_max=2020&season_start=1&season_end=-1&pos%5B%5D=QB&pos%5B%5D=WR&pos%5B%5D=RB&pos%5B%5D=TE&pos%5B%5D=OL&pos%5B%5D=DL&pos%5B%5D=LB&pos%5B%5D=DB&is_starter=E&game_type=R&career_game_num_min=1&career_game_num_max=400&qb_start_num_min=1&qb_start_num_max=400&game_num_min=0&game_num_max=99&week_num_min=0&week_num_max=99&c1stat=rush_att&c1comp=gt&c1val=1&c2stat=rush_yds&c2comp=lt&c2val=7&c5val=1.0&order_by=rush_yds&order_by_asc=1&offset=0\"\n",
    "dfs=pd.read_html(URL,header=1)\n",
    "df=dfs[0]\n",
    "df\n",
    "\n",
    "for x in range(0,100000000):\n",
    "    URL=\"https://www.pro-football-reference.com/play-index/pgl_finder.cgi?request=1&match=game&year_min=1970&year_max=2020&season_start=1&season_end=-1&pos%5B%5D=QB&pos%5B%5D=WR&pos%5B%5D=RB&pos%5B%5D=TE&pos%5B%5D=OL&pos%5B%5D=DL&pos%5B%5D=LB&pos%5B%5D=DB&is_starter=E&game_type=R&career_game_num_min=1&career_game_num_max=400&qb_start_num_min=1&qb_start_num_max=400&game_num_min=0&game_num_max=99&week_num_min=0&week_num_max=99&c1stat=rush_att&c1comp=gt&c1val=1&c2stat=rush_yds&c2comp=lt&c2val=7&c5val=1.0&order_by=rush_yds&order_by_asc=1&offset=\"+str((x+1)*20)\n",
    "    dfnews=pd.read_html(URL,header=1)\n",
    "    dfnew=dfnews[0]\n",
    "    df = pd.concat([df, dfnew])\n",
    "    count_row = df.shape[0]\n",
    "    dateTimeObj = datetime.datetime.now()\n",
    "    print(count_row, dateTimeObj)\n",
    "    df.to_csv(r\"C:\\Users\\bglew\\OneDrive\\Documents\\NFL\\Rushing.csv\", index = False)\n"
   ]
  }
 ],
 "metadata": {
  "kernelspec": {
   "display_name": "Python 3",
   "language": "python",
   "name": "python3"
  },
  "language_info": {
   "codemirror_mode": {
    "name": "ipython",
    "version": 3
   },
   "file_extension": ".py",
   "mimetype": "text/x-python",
   "name": "python",
   "nbconvert_exporter": "python",
   "pygments_lexer": "ipython3",
   "version": "3.6.5"
  }
 },
 "nbformat": 4,
 "nbformat_minor": 2
}
